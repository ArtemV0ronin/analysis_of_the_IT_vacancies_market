{
 "cells": [
  {
   "cell_type": "markdown",
   "id": "68d43403",
   "metadata": {},
   "source": [
    "# 0 Подготовка к работе"
   ]
  },
  {
   "cell_type": "code",
   "execution_count": 10,
   "id": "0dc56ce8",
   "metadata": {},
   "outputs": [],
   "source": [
    "# Библиотека для работы с HTTP-запросами. Будем использовать ее для обращения к API HH\n",
    "import requests\n",
    " \n",
    "# Пакет для удобной работы с данными в формате json\n",
    "import json\n",
    " \n",
    "# Модуль для работы со значением времени\n",
    "import time\n",
    " \n",
    "# Модуль для работы с операционной системой. Будем использовать для работы с файлами\n",
    "import os\n",
    "\n",
    "import pandas as pd #библиотека для работы с бд\n",
    "import numpy as np\n",
    "import glob"
   ]
  },
  {
   "cell_type": "markdown",
   "id": "f115c427",
   "metadata": {},
   "source": [
    "# 1 Парсинг"
   ]
  },
  {
   "cell_type": "code",
   "execution_count": 11,
   "id": "ca7a5578",
   "metadata": {
    "tags": []
   },
   "outputs": [],
   "source": [
    "def getPage(page=0):\n",
    "    \"\"\"\n",
    "    Получение страницы со списком вакансий.\n",
    "    Аргументы:\n",
    "        page - Индекс страницы, начинается с 0. Значение по умолчанию 0, т.е. первая страница\n",
    "    \"\"\"\n",
    "     \n",
    "    # Справочник для параметров GET-запроса\n",
    "    params = {\n",
    "        'text':'NAME:\"\"',          # Текст фильтра. В имени должно быть определенное слово \n",
    "        'area': 113,               # Поиск ощуществляется по России\n",
    "        'page': page,              # Индекс страницы поиска на HH\n",
    "        'per_page': 100,           # Кол-во вакансий на 1 странице\n",
    "        'specialization' : 1,      # Информационные технологии\n",
    "        'profarea_id' : 1,\n",
    "        'date_from' : '2021-11-15',\n",
    "        'date_to' : '2021-11-16'\n",
    "    }\n",
    "    \n",
    "    # Посылаем запрос к API\n",
    "    req = requests.get('https://api.hh.ru/vacancies', params)     \n",
    "    # Декодируем его ответ, чтобы Кириллица отображалась корректно\n",
    "    data = req.content.decode() \n",
    "    req.close()\n",
    "    \n",
    "    return data"
   ]
  },
  {
   "cell_type": "code",
   "execution_count": 12,
   "id": "e5c0a031",
   "metadata": {},
   "outputs": [
    {
     "name": "stdout",
     "output_type": "stream",
     "text": [
      "Страницы поиска собраны\n"
     ]
    }
   ],
   "source": [
    "jsObjs = [] \n",
    "\n",
    "# Считываем первые 2000 вакансий\n",
    "for page in range(0, 20):\n",
    "     \n",
    "    # Преобразуем текст ответа запроса в справочник Python\n",
    "    jsObj = json.loads(getPage(page))\n",
    "    \n",
    "    # добавление текущего ответа запроса в список\n",
    "    jsObjs.extend(jsObj[\"items\"]) \n",
    "    \n",
    "    # Сохраняем файлы в папку {путь до текущего документа со скриптом}\\docs\\pagination\n",
    "    # Определяем количество файлов в папке для сохранения документа с ответом запроса\n",
    "    # Полученное значение используем для формирования имени документа\n",
    "    nextFileName = './parsing/{}.json'.format(len(os.listdir('./parsing')))\n",
    "     \n",
    "    # Создаем новый документ, записываем в него ответ запроса, после закрываем\n",
    "    f = open(nextFileName, mode='w', encoding='utf8')\n",
    "    f.write(json.dumps(jsObj, ensure_ascii=False))\n",
    "    f.close()\n",
    "     \n",
    "    # Проверка на последнюю страницу, если вакансий меньше 2000\n",
    "    if (jsObj['pages'] - page) <= 1:\n",
    "        break\n",
    "     \n",
    "    # Необязательная задержка, но чтобы не нагружать сервисы hh, оставим.\n",
    "    time.sleep(0.25)\n",
    "\n",
    "print('Страницы поиска собраны')"
   ]
  },
  {
   "cell_type": "code",
   "execution_count": 13,
   "id": "506b687c-5c2b-473c-91fe-667dd6784c3f",
   "metadata": {
    "scrolled": true
   },
   "outputs": [
    {
     "name": "stdout",
     "output_type": "stream",
     "text": [
      "Вакансии собраны\n"
     ]
    }
   ],
   "source": [
    "# Получаем карточки вакансий\n",
    "v = 0\n",
    "\n",
    "for v in jsObjs: #цикл по справочнику\n",
    "         \n",
    "    # Обращаемся к API и получаем детальную информацию по конкретной вакансии\n",
    "    req = requests.get(v['url'])\n",
    "    data = req.content.decode()\n",
    "    req.close()\n",
    "        \n",
    "    # Создаем файл json с идентификатором вакансии в качестве названия\n",
    "    fileName = './vacancies/{}.json'.format(v['id'])\n",
    "    # Записываем в него ответ запроса и закрываем\n",
    "    f = open(fileName, mode='w', encoding='utf8')\n",
    "    f.write(data)\n",
    "    f.close()\n",
    "         \n",
    "    time.sleep(0.25)\n",
    "         \n",
    "print('Вакансии собраны')"
   ]
  },
  {
   "cell_type": "code",
   "execution_count": null,
   "id": "fbfc763b-e2a5-45e7-b7bf-5686294e31f7",
   "metadata": {},
   "outputs": [],
   "source": [
    "## df = pd.DataFrame(jsObjs)\n",
    "#df.head(2)"
   ]
  },
  {
   "cell_type": "markdown",
   "id": "aba345e8",
   "metadata": {},
   "source": [
    "# 2 Предварительный обзор и предобработка данных"
   ]
  },
  {
   "cell_type": "code",
   "execution_count": 14,
   "id": "a13c94a3-cf6b-425e-ba3c-958bafb4444f",
   "metadata": {},
   "outputs": [],
   "source": [
    "# Модуль для работы с отображением вывода Jupyter\n",
    "from IPython import display\n",
    "\n",
    "skills_vac = []    # Список идентификаторов вакансий\n",
    "skills_name = []   # Список названий навыков\n",
    " \n",
    "# В выводе будем отображать прогресс\n",
    "# Для этого узнаем общее количество файлов, которые надо обработать\n",
    "cnt_docs = len(os.listdir('./vacancies'))\n",
    "i = 0  # Счетчик обработанных файлов установим в ноль\n",
    "\n",
    "df_vac = pd.DataFrame([])\n",
    "\n",
    "# Проходимся по всем файлам в папке vacancies\n",
    "for fl in os.listdir('./vacancies'): \n",
    "            \n",
    "    # Открываем, читаем и закрываем файл\n",
    "    f = open('./vacancies/{}'.format(fl), encoding='utf8')\n",
    "    jsonText = f.read()\n",
    "    f.close()\n",
    "     \n",
    "    # Текст файла переводим в справочник\n",
    "    jsonObj = json.loads(jsonText)\n",
    "    # Добавляем строки в датафрейм\n",
    "    df_vac = df_vac.append(pd.DataFrame.from_dict(pd.json_normalize(jsonObj), orient='columns')) \n",
    "        \n",
    "    # Увеличиваем счетчик обработанных файлов на 1, очищаем вывод ячейки и выводим прогресс\n",
    "    i += 1\n",
    "    display.clear_output(wait=True)\n",
    "    display.display('Готово {} из {}'.format(i, cnt_docs))"
   ]
  },
  {
   "cell_type": "code",
   "execution_count": 4,
   "id": "97f4382e-ede7-4e15-9702-2062dc89ff56",
   "metadata": {},
   "outputs": [],
   "source": [
    "df_vac.drop(['address.metro.station_id','insider_interview.id', 'insider_interview.url', 'vacancy_constructor_template.bottom_picture.path', 'vacancy_constructor_template.bottom_picture.blurred_path', 'vacancy_constructor_template.bottom_picture.height', 'vacancy_constructor_template.top_picture.width', 'vacancy_constructor_template.top_picture.path', 'vacancy_constructor_template.top_picture.blurred_path', 'vacancy_constructor_template','salary.gross', 'address.metro', 'address', 'test.required', 'employer.logo_urls', 'vacancy_constructor_template.id', 'vacancy_constructor_template.name','employer.logo_urls.240', 'employer.logo_urls.90', 'employer.logo_urls.original', 'employer.vacancies_url', 'employer.trusted', 'department.id', 'department.name','site.id', 'site.name', 'experience.id', 'schedule.id', 'employment.id', 'employer.id', 'employer.name', 'employer.url', 'employer.alternate_url','type.id', 'type.name', 'address.city', 'address.street', 'address.building', 'address.description', 'address.raw', 'address.metro.station_name', 'address.metro.line_name', 'address.metro.line_id', 'address.metro.lat', 'address.metro.lng', 'address.metro_stations','billing_type.name', 'area.url','apply_alternate_url', 'alternate_url', 'working_days', 'working_time_intervals', 'working_time_modes', 'accept_temporary', 'billing_type.id','created_at', 'negotiations_url', 'suitable_resumes_url', 'has_test', 'test', 'premium', 'relations', 'insider_interview','response_letter_required', 'salary', 'allow_messages','department', 'contacts', 'branded_description', 'vacancy_constructor_template.top_picture.height', 'accept_handicapped', 'accept_kids', 'archived', 'response_url', 'code', 'hidden', 'quick_responses_allowed', 'driver_license_types', 'accept_incomplete_resumes'], axis=1, inplace=True)\n"
   ]
  },
  {
   "cell_type": "code",
   "execution_count": 8,
   "id": "48281dcd-a4b7-4520-b4e8-943810eaa983",
   "metadata": {},
   "outputs": [
    {
     "data": {
      "text/html": [
       "<div>\n",
       "<style scoped>\n",
       "    .dataframe tbody tr th:only-of-type {\n",
       "        vertical-align: middle;\n",
       "    }\n",
       "\n",
       "    .dataframe tbody tr th {\n",
       "        vertical-align: top;\n",
       "    }\n",
       "\n",
       "    .dataframe thead th {\n",
       "        text-align: right;\n",
       "    }\n",
       "</style>\n",
       "<table border=\"1\" class=\"dataframe\">\n",
       "  <thead>\n",
       "    <tr style=\"text-align: right;\">\n",
       "      <th></th>\n",
       "      <th>id</th>\n",
       "      <th>name</th>\n",
       "      <th>description</th>\n",
       "      <th>key_skills</th>\n",
       "      <th>specializations</th>\n",
       "      <th>professional_roles</th>\n",
       "      <th>area.id</th>\n",
       "      <th>area.name</th>\n",
       "      <th>salary.from</th>\n",
       "      <th>salary.to</th>\n",
       "      <th>salary.currency</th>\n",
       "      <th>address.lat</th>\n",
       "      <th>address.lng</th>\n",
       "      <th>experience.name</th>\n",
       "      <th>schedule.name</th>\n",
       "      <th>employment.name</th>\n",
       "    </tr>\n",
       "  </thead>\n",
       "  <tbody>\n",
       "    <tr>\n",
       "      <th>0</th>\n",
       "      <td>14694668</td>\n",
       "      <td>Junior разработчик (стажер)</td>\n",
       "      <td>&lt;p&gt;&lt;strong&gt;Должностные обязанности:&lt;/strong&gt;&lt;/...</td>\n",
       "      <td>[]</td>\n",
       "      <td>[{'id': '1.172', 'name': 'Начальный уровень, М...</td>\n",
       "      <td>[{'id': '96', 'name': 'Программист, разработчи...</td>\n",
       "      <td>92</td>\n",
       "      <td>Тула</td>\n",
       "      <td>20000.0</td>\n",
       "      <td>None</td>\n",
       "      <td>RUR</td>\n",
       "      <td>54.185099</td>\n",
       "      <td>37.612012</td>\n",
       "      <td>Нет опыта</td>\n",
       "      <td>Полный день</td>\n",
       "      <td>Полная занятость</td>\n",
       "    </tr>\n",
       "    <tr>\n",
       "      <th>0</th>\n",
       "      <td>14820007</td>\n",
       "      <td>Программист 1С</td>\n",
       "      <td>&lt;p&gt;&lt;strong&gt;СофтЭксперт - IT-интегратор, крупне...</td>\n",
       "      <td>[{'name': '1С программирование'}, {'name': '1С...</td>\n",
       "      <td>[{'id': '1.221', 'name': 'Программирование, Ра...</td>\n",
       "      <td>[{'id': '96', 'name': 'Программист, разработчи...</td>\n",
       "      <td>92</td>\n",
       "      <td>Тула</td>\n",
       "      <td>80000.0</td>\n",
       "      <td>None</td>\n",
       "      <td>RUR</td>\n",
       "      <td>54.18209</td>\n",
       "      <td>37.573411</td>\n",
       "      <td>От 1 года до 3 лет</td>\n",
       "      <td>Удаленная работа</td>\n",
       "      <td>Полная занятость</td>\n",
       "    </tr>\n",
       "  </tbody>\n",
       "</table>\n",
       "</div>"
      ],
      "text/plain": [
       "         id                         name  \\\n",
       "0  14694668  Junior разработчик (стажер)   \n",
       "0  14820007               Программист 1С   \n",
       "\n",
       "                                         description  \\\n",
       "0  <p><strong>Должностные обязанности:</strong></...   \n",
       "0  <p><strong>СофтЭксперт - IT-интегратор, крупне...   \n",
       "\n",
       "                                          key_skills  \\\n",
       "0                                                 []   \n",
       "0  [{'name': '1С программирование'}, {'name': '1С...   \n",
       "\n",
       "                                     specializations  \\\n",
       "0  [{'id': '1.172', 'name': 'Начальный уровень, М...   \n",
       "0  [{'id': '1.221', 'name': 'Программирование, Ра...   \n",
       "\n",
       "                                  professional_roles area.id area.name  \\\n",
       "0  [{'id': '96', 'name': 'Программист, разработчи...      92      Тула   \n",
       "0  [{'id': '96', 'name': 'Программист, разработчи...      92      Тула   \n",
       "\n",
       "  salary.from salary.to salary.currency address.lat address.lng  \\\n",
       "0     20000.0      None             RUR   54.185099   37.612012   \n",
       "0     80000.0      None             RUR    54.18209   37.573411   \n",
       "\n",
       "      experience.name     schedule.name   employment.name  \n",
       "0           Нет опыта       Полный день  Полная занятость  \n",
       "0  От 1 года до 3 лет  Удаленная работа  Полная занятость  "
      ]
     },
     "execution_count": 8,
     "metadata": {},
     "output_type": "execute_result"
    }
   ],
   "source": [
    "df_vac.head(2)"
   ]
  },
  {
   "cell_type": "code",
   "execution_count": 15,
   "id": "f32e9afc-f573-4e26-81a7-d701184a4dba",
   "metadata": {},
   "outputs": [],
   "source": [
    "# df_vac.drop([0], axis=1, inplace=True)"
   ]
  },
  {
   "cell_type": "code",
   "execution_count": 7,
   "id": "193f5c0f-5b1d-4e7c-9cfe-72b100616e4d",
   "metadata": {},
   "outputs": [],
   "source": [
    "df_vac.drop(['published_at', 'immediate_redirect_url'], axis=1, inplace=True)"
   ]
  },
  {
   "cell_type": "code",
   "execution_count": 9,
   "id": "9eb643f0-5a17-4e0e-bbeb-fa8a1c0e9598",
   "metadata": {},
   "outputs": [],
   "source": [
    "df_vac.to_csv('20211122_BAZA_IT.csv')"
   ]
  },
  {
   "cell_type": "code",
   "execution_count": 3,
   "id": "65e4ed29-c75e-4ba9-b9b0-b5bcf852d9be",
   "metadata": {},
   "outputs": [
    {
     "data": {
      "text/html": [
       "<div>\n",
       "<style scoped>\n",
       "    .dataframe tbody tr th:only-of-type {\n",
       "        vertical-align: middle;\n",
       "    }\n",
       "\n",
       "    .dataframe tbody tr th {\n",
       "        vertical-align: top;\n",
       "    }\n",
       "\n",
       "    .dataframe thead th {\n",
       "        text-align: right;\n",
       "    }\n",
       "</style>\n",
       "<table border=\"1\" class=\"dataframe\">\n",
       "  <thead>\n",
       "    <tr style=\"text-align: right;\">\n",
       "      <th></th>\n",
       "      <th>Unnamed: 0</th>\n",
       "      <th>id</th>\n",
       "      <th>name</th>\n",
       "      <th>description</th>\n",
       "      <th>key_skills</th>\n",
       "      <th>specializations</th>\n",
       "      <th>professional_roles</th>\n",
       "      <th>area.id</th>\n",
       "      <th>area.name</th>\n",
       "      <th>salary.from</th>\n",
       "      <th>salary.to</th>\n",
       "      <th>salary.currency</th>\n",
       "      <th>address.lat</th>\n",
       "      <th>address.lng</th>\n",
       "      <th>experience.name</th>\n",
       "      <th>schedule.name</th>\n",
       "      <th>employment.name</th>\n",
       "    </tr>\n",
       "  </thead>\n",
       "  <tbody>\n",
       "    <tr>\n",
       "      <th>0</th>\n",
       "      <td>0</td>\n",
       "      <td>14694668</td>\n",
       "      <td>Junior разработчик (стажер)</td>\n",
       "      <td>&lt;p&gt;&lt;strong&gt;Должностные обязанности:&lt;/strong&gt;&lt;/...</td>\n",
       "      <td>[]</td>\n",
       "      <td>[{'id': '1.172', 'name': 'Начальный уровень, М...</td>\n",
       "      <td>[{'id': '96', 'name': 'Программист, разработчи...</td>\n",
       "      <td>92</td>\n",
       "      <td>Тула</td>\n",
       "      <td>20000.0</td>\n",
       "      <td>NaN</td>\n",
       "      <td>RUR</td>\n",
       "      <td>54.185099</td>\n",
       "      <td>37.612012</td>\n",
       "      <td>Нет опыта</td>\n",
       "      <td>Полный день</td>\n",
       "      <td>Полная занятость</td>\n",
       "    </tr>\n",
       "    <tr>\n",
       "      <th>1</th>\n",
       "      <td>0</td>\n",
       "      <td>14820007</td>\n",
       "      <td>Программист 1С</td>\n",
       "      <td>&lt;p&gt;&lt;strong&gt;СофтЭксперт - IT-интегратор, крупне...</td>\n",
       "      <td>[{'name': '1С программирование'}, {'name': '1С...</td>\n",
       "      <td>[{'id': '1.221', 'name': 'Программирование, Ра...</td>\n",
       "      <td>[{'id': '96', 'name': 'Программист, разработчи...</td>\n",
       "      <td>92</td>\n",
       "      <td>Тула</td>\n",
       "      <td>80000.0</td>\n",
       "      <td>NaN</td>\n",
       "      <td>RUR</td>\n",
       "      <td>54.182090</td>\n",
       "      <td>37.573411</td>\n",
       "      <td>От 1 года до 3 лет</td>\n",
       "      <td>Удаленная работа</td>\n",
       "      <td>Полная занятость</td>\n",
       "    </tr>\n",
       "  </tbody>\n",
       "</table>\n",
       "</div>"
      ],
      "text/plain": [
       "   Unnamed: 0        id                         name  \\\n",
       "0           0  14694668  Junior разработчик (стажер)   \n",
       "1           0  14820007               Программист 1С   \n",
       "\n",
       "                                         description  \\\n",
       "0  <p><strong>Должностные обязанности:</strong></...   \n",
       "1  <p><strong>СофтЭксперт - IT-интегратор, крупне...   \n",
       "\n",
       "                                          key_skills  \\\n",
       "0                                                 []   \n",
       "1  [{'name': '1С программирование'}, {'name': '1С...   \n",
       "\n",
       "                                     specializations  \\\n",
       "0  [{'id': '1.172', 'name': 'Начальный уровень, М...   \n",
       "1  [{'id': '1.221', 'name': 'Программирование, Ра...   \n",
       "\n",
       "                                  professional_roles  area.id area.name  \\\n",
       "0  [{'id': '96', 'name': 'Программист, разработчи...       92      Тула   \n",
       "1  [{'id': '96', 'name': 'Программист, разработчи...       92      Тула   \n",
       "\n",
       "   salary.from  salary.to salary.currency  address.lat  address.lng  \\\n",
       "0      20000.0        NaN             RUR    54.185099    37.612012   \n",
       "1      80000.0        NaN             RUR    54.182090    37.573411   \n",
       "\n",
       "      experience.name     schedule.name   employment.name  \n",
       "0           Нет опыта       Полный день  Полная занятость  \n",
       "1  От 1 года до 3 лет  Удаленная работа  Полная занятость  "
      ]
     },
     "execution_count": 3,
     "metadata": {},
     "output_type": "execute_result"
    }
   ],
   "source": [
    "data = pd.read_csv(\"20211122_BAZA_IT.csv\")\n",
    "data.head(2)"
   ]
  },
  {
   "cell_type": "code",
   "execution_count": 5,
   "id": "a244915d-a81f-4759-9331-18de99b7c1c2",
   "metadata": {},
   "outputs": [
    {
     "name": "stdout",
     "output_type": "stream",
     "text": [
      "<class 'pandas.core.frame.DataFrame'>\n",
      "RangeIndex: 56577 entries, 0 to 56576\n",
      "Data columns (total 17 columns):\n",
      " #   Column              Non-Null Count  Dtype  \n",
      "---  ------              --------------  -----  \n",
      " 0   Unnamed: 0          56577 non-null  int64  \n",
      " 1   id                  56577 non-null  int64  \n",
      " 2   name                56577 non-null  object \n",
      " 3   description         56577 non-null  object \n",
      " 4   key_skills          56577 non-null  object \n",
      " 5   specializations     56577 non-null  object \n",
      " 6   professional_roles  56577 non-null  object \n",
      " 7   area.id             56577 non-null  int64  \n",
      " 8   area.name           56577 non-null  object \n",
      " 9   salary.from         29649 non-null  float64\n",
      " 10  salary.to           16855 non-null  float64\n",
      " 11  salary.currency     32459 non-null  object \n",
      " 12  address.lat         25612 non-null  float64\n",
      " 13  address.lng         25612 non-null  float64\n",
      " 14  experience.name     56577 non-null  object \n",
      " 15  schedule.name       56577 non-null  object \n",
      " 16  employment.name     56577 non-null  object \n",
      "dtypes: float64(4), int64(3), object(10)\n",
      "memory usage: 7.3+ MB\n"
     ]
    }
   ],
   "source": [
    "data.info()"
   ]
  },
  {
   "cell_type": "code",
   "execution_count": 7,
   "id": "e587b982-94de-49b0-a586-7dd2dfd08312",
   "metadata": {},
   "outputs": [
    {
     "data": {
      "text/plain": [
       "От 1 года до 3 лет    25946\n",
       "Нет опыта             17927\n",
       "От 3 до 6 лет         11704\n",
       "Более 6 лет            1000\n",
       "Name: experience.name, dtype: int64"
      ]
     },
     "execution_count": 7,
     "metadata": {},
     "output_type": "execute_result"
    }
   ],
   "source": [
    "data['experience.name'].value_counts()"
   ]
  },
  {
   "cell_type": "code",
   "execution_count": 8,
   "id": "9fa96c8b-3264-450e-8294-7ce3ae2bb68b",
   "metadata": {},
   "outputs": [
    {
     "data": {
      "text/plain": [
       "[{'id': '96', 'name': 'Программист, разработчик'}]                                12681\n",
       "[{'id': '40', 'name': 'Другое'}]                                                   7760\n",
       "[{'id': '97', 'name': 'Продавец-консультант, продавец-кассир'}]                    3889\n",
       "[{'id': '121', 'name': 'Специалист технической поддержки'}]                        3651\n",
       "[{'id': '70', 'name': 'Менеджер по продажам, менеджер по работе с клиентами'}]     3393\n",
       "                                                                                  ...  \n",
       "[{'id': '135', 'name': 'Финансовый директор (CFO)'}]                                  1\n",
       "[{'id': '63', 'name': 'Машинист'}]                                                    1\n",
       "[{'id': '95', 'name': 'Полицейский'}]                                                 1\n",
       "[{'id': '136', 'name': 'Финансовый контролер'}]                                       1\n",
       "[{'id': '61', 'name': 'Мастер ногтевого сервиса'}]                                    1\n",
       "Name: professional_roles, Length: 130, dtype: int64"
      ]
     },
     "execution_count": 8,
     "metadata": {},
     "output_type": "execute_result"
    }
   ],
   "source": [
    "data['professional_roles'].value_counts()"
   ]
  },
  {
   "cell_type": "code",
   "execution_count": 10,
   "id": "80353be2-fa8e-4de4-a7bd-f26e9fc7ae7f",
   "metadata": {},
   "outputs": [
    {
     "data": {
      "text/plain": [
       "Москва                         18647\n",
       "Санкт-Петербург                 3803\n",
       "Новосибирск                     3529\n",
       "Казань                          2526\n",
       "Воронеж                         2124\n",
       "                               ...  \n",
       "Заводской (Северная Осетия)        1\n",
       "Выльгорт                           1\n",
       "Ивня                               1\n",
       "Вынгапуровский                     1\n",
       "Оршанка                            1\n",
       "Name: area.name, Length: 1015, dtype: int64"
      ]
     },
     "execution_count": 10,
     "metadata": {},
     "output_type": "execute_result"
    }
   ],
   "source": [
    "data['area.name'].value_counts()"
   ]
  },
  {
   "cell_type": "code",
   "execution_count": 11,
   "id": "41a778be-6e25-4671-aa02-e7b1f755e79c",
   "metadata": {},
   "outputs": [
    {
     "data": {
      "text/plain": [
       "[{'id': '1.221', 'name': 'Программирование, Разработка', 'profarea_id': '1', 'profarea_name': 'Информационные технологии, интернет, телеком'}]                                                                                                                                                                                                                                                                                                                                                                                                                                                                                                                                                                                                                                                                                   3953\n",
       "[{'id': '17.256', 'name': 'Розничная торговля', 'profarea_id': '17', 'profarea_name': 'Продажи'}, {'id': '17.535', 'name': 'Торговые сети', 'profarea_id': '17', 'profarea_name': 'Продажи'}, {'id': '17.520', 'name': 'Продавец в магазине', 'profarea_id': '17', 'profarea_name': 'Продажи'}, {'id': '1.225', 'name': 'Продажи', 'profarea_id': '1', 'profarea_name': 'Информационные технологии, интернет, телеком'}, {'id': '19.170', 'name': 'Начальный уровень, Мало опыта', 'profarea_id': '19', 'profarea_name': 'Страхование'}]                                                                                                                                                                                                                                                                                         3532\n",
       "[{'id': '17.256', 'name': 'Розничная торговля', 'profarea_id': '17', 'profarea_name': 'Продажи'}, {'id': '17.242', 'name': 'Прямые продажи', 'profarea_id': '17', 'profarea_name': 'Продажи'}, {'id': '1.225', 'name': 'Продажи', 'profarea_id': '1', 'profarea_name': 'Информационные технологии, интернет, телеком'}, {'id': '3.148', 'name': 'Менеджер по работе с клиентами', 'profarea_id': '3', 'profarea_name': 'Маркетинг, реклама, PR'}, {'id': '19.170', 'name': 'Начальный уровень, Мало опыта', 'profarea_id': '19', 'profarea_name': 'Страхование'}]                                                                                                                                                                                                                                                                3100\n",
       "[{'id': '1.211', 'name': 'Поддержка, Helpdesk', 'profarea_id': '1', 'profarea_name': 'Информационные технологии, интернет, телеком'}]                                                                                                                                                                                                                                                                                                                                                                                                                                                                                                                                                                                                                                                                                            2156\n",
       "[{'id': '1.221', 'name': 'Программирование, Разработка', 'profarea_id': '1', 'profarea_name': 'Информационные технологии, интернет, телеком'}, {'id': '1.50', 'name': 'Системы управления предприятием (ERP)', 'profarea_id': '1', 'profarea_name': 'Информационные технологии, интернет, телеком'}, {'id': '1.9', 'name': 'Web инженер', 'profarea_id': '1', 'profarea_name': 'Информационные технологии, интернет, телеком'}, {'id': '1.10', 'name': 'Web мастер', 'profarea_id': '1', 'profarea_name': 'Информационные технологии, интернет, телеком'}, {'id': '10.80', 'name': 'Инженер', 'profarea_id': '10', 'profarea_name': 'Добыча сырья'}]                                                                                                                                                                             1996\n",
       "                                                                                                                                                                                                                                                                                                                                                                                                                                                                                                                                                                                                                                                                                                                                                                                                                                 ... \n",
       "[{'id': '1.172', 'name': 'Начальный уровень, Мало опыта', 'profarea_id': '1', 'profarea_name': 'Информационные технологии, интернет, телеком'}, {'id': '1.744', 'name': 'Другое', 'profarea_id': '1', 'profarea_name': 'Информационные технологии, интернет, телеком'}, {'id': '4.429', 'name': 'Делопроизводство', 'profarea_id': '4', 'profarea_name': 'Административный персонал'}, {'id': '4.181', 'name': 'Начальный уровень, Мало опыта', 'profarea_id': '4', 'profarea_name': 'Административный персонал'}, {'id': '4.264', 'name': 'Секретарь', 'profarea_id': '4', 'profarea_name': 'Административный персонал'}]                                                                                                                                                                                                          1\n",
       "[{'id': '17.112', 'name': 'Компьютерные программы', 'profarea_id': '17', 'profarea_name': 'Продажи'}, {'id': '1.272', 'name': 'Системная интеграция', 'profarea_id': '1', 'profarea_name': 'Информационные технологии, интернет, телеком'}, {'id': '1.211', 'name': 'Поддержка, Helpdesk', 'profarea_id': '1', 'profarea_name': 'Информационные технологии, интернет, телеком'}, {'id': '1.327', 'name': 'Управление проектами', 'profarea_id': '1', 'profarea_name': 'Информационные технологии, интернет, телеком'}, {'id': '1.536', 'name': 'CRM системы', 'profarea_id': '1', 'profarea_name': 'Информационные технологии, интернет, телеком'}, {'id': '1.25', 'name': 'Аналитик', 'profarea_id': '1', 'profarea_name': 'Информационные технологии, интернет, телеком'}]                                                        1\n",
       "[{'id': '1.221', 'name': 'Программирование, Разработка', 'profarea_id': '1', 'profarea_name': 'Информационные технологии, интернет, телеком'}, {'id': '3.26', 'name': 'Аналитик', 'profarea_id': '3', 'profarea_name': 'Маркетинг, реклама, PR'}]                                                                                                                                                                                                                                                                                                                                                                                                                                                                                                                                                                                   1\n",
       "[{'id': '17.269', 'name': 'Телекоммуникации, Сетевые решения', 'profarea_id': '17', 'profarea_name': 'Продажи'}, {'id': '17.301', 'name': 'Товары для бизнеса', 'profarea_id': '17', 'profarea_name': 'Продажи'}, {'id': '17.149', 'name': 'Менеджер по работе с клиентами', 'profarea_id': '17', 'profarea_name': 'Продажи'}, {'id': '3.148', 'name': 'Менеджер по работе с клиентами', 'profarea_id': '3', 'profarea_name': 'Маркетинг, реклама, PR'}, {'id': '1.295', 'name': 'Телекоммуникации', 'profarea_id': '1', 'profarea_name': 'Информационные технологии, интернет, телеком'}]                                                                                                                                                                                                                                          1\n",
       "[{'id': '1.475', 'name': 'Игровое ПО', 'profarea_id': '1', 'profarea_name': 'Информационные технологии, интернет, телеком'}, {'id': '1.221', 'name': 'Программирование, Разработка', 'profarea_id': '1', 'profarea_name': 'Информационные технологии, интернет, телеком'}, {'id': '1.82', 'name': 'Инженер', 'profarea_id': '1', 'profarea_name': 'Информационные технологии, интернет, телеком'}, {'id': '1.274', 'name': 'Системы автоматизированного проектирования', 'profarea_id': '1', 'profarea_name': 'Информационные технологии, интернет, телеком'}, {'id': '1.296', 'name': 'Технический писатель', 'profarea_id': '1', 'profarea_name': 'Информационные технологии, интернет, телеком'}, {'id': '1.89', 'name': 'Интернет', 'profarea_id': '1', 'profarea_name': 'Информационные технологии, интернет, телеком'}]       1\n",
       "Name: specializations, Length: 12790, dtype: int64"
      ]
     },
     "execution_count": 11,
     "metadata": {},
     "output_type": "execute_result"
    }
   ],
   "source": [
    "data['specializations'].value_counts()"
   ]
  },
  {
   "cell_type": "code",
   "execution_count": 12,
   "id": "bd85b4dc-59b1-4988-b104-3eb55a530fd8",
   "metadata": {},
   "outputs": [
    {
     "data": {
      "text/html": [
       "<div>\n",
       "<style scoped>\n",
       "    .dataframe tbody tr th:only-of-type {\n",
       "        vertical-align: middle;\n",
       "    }\n",
       "\n",
       "    .dataframe tbody tr th {\n",
       "        vertical-align: top;\n",
       "    }\n",
       "\n",
       "    .dataframe thead th {\n",
       "        text-align: right;\n",
       "    }\n",
       "</style>\n",
       "<table border=\"1\" class=\"dataframe\">\n",
       "  <thead>\n",
       "    <tr style=\"text-align: right;\">\n",
       "      <th></th>\n",
       "      <th>Unnamed: 0</th>\n",
       "      <th>id</th>\n",
       "      <th>name</th>\n",
       "      <th>description</th>\n",
       "      <th>key_skills</th>\n",
       "      <th>specializations</th>\n",
       "      <th>professional_roles</th>\n",
       "      <th>published_at</th>\n",
       "      <th>area.id</th>\n",
       "      <th>area.name</th>\n",
       "      <th>address.lat</th>\n",
       "      <th>address.lng</th>\n",
       "      <th>experience.name</th>\n",
       "      <th>schedule.name</th>\n",
       "      <th>employment.name</th>\n",
       "      <th>salary.from</th>\n",
       "      <th>salary.to</th>\n",
       "      <th>salary.currency</th>\n",
       "    </tr>\n",
       "  </thead>\n",
       "  <tbody>\n",
       "    <tr>\n",
       "      <th>0</th>\n",
       "      <td>0</td>\n",
       "      <td>24720534</td>\n",
       "      <td>Системный/бизнес-аналитик</td>\n",
       "      <td>&lt;p&gt;&lt;strong&gt;В компанию АО &lt;/strong&gt; &lt;strong&gt;«НП...</td>\n",
       "      <td>[]</td>\n",
       "      <td>[{'id': '12.251', 'name': 'Реинжиниринг бизнес...</td>\n",
       "      <td>[{'id': '10', 'name': 'Аналитик'}]</td>\n",
       "      <td>2021-11-08T10:03:32+0300</td>\n",
       "      <td>1</td>\n",
       "      <td>Москва</td>\n",
       "      <td>NaN</td>\n",
       "      <td>NaN</td>\n",
       "      <td>От 1 года до 3 лет</td>\n",
       "      <td>Полный день</td>\n",
       "      <td>Полная занятость</td>\n",
       "      <td>NaN</td>\n",
       "      <td>NaN</td>\n",
       "      <td>NaN</td>\n",
       "    </tr>\n",
       "    <tr>\n",
       "      <th>1</th>\n",
       "      <td>0</td>\n",
       "      <td>30185978</td>\n",
       "      <td>Системный аналитик</td>\n",
       "      <td>&lt;p&gt;&lt;strong&gt;Мы делаем автомобили доступными.&lt;/s...</td>\n",
       "      <td>[]</td>\n",
       "      <td>[{'id': '1.221', 'name': 'Программирование, Ра...</td>\n",
       "      <td>[{'id': '10', 'name': 'Аналитик'}]</td>\n",
       "      <td>2021-11-20T10:11:47+0300</td>\n",
       "      <td>1</td>\n",
       "      <td>Москва</td>\n",
       "      <td>55.728849</td>\n",
       "      <td>37.620321</td>\n",
       "      <td>От 1 года до 3 лет</td>\n",
       "      <td>Удаленная работа</td>\n",
       "      <td>Полная занятость</td>\n",
       "      <td>NaN</td>\n",
       "      <td>NaN</td>\n",
       "      <td>NaN</td>\n",
       "    </tr>\n",
       "  </tbody>\n",
       "</table>\n",
       "</div>"
      ],
      "text/plain": [
       "   Unnamed: 0        id                       name  \\\n",
       "0           0  24720534  Системный/бизнес-аналитик   \n",
       "1           0  30185978         Системный аналитик   \n",
       "\n",
       "                                         description key_skills  \\\n",
       "0  <p><strong>В компанию АО </strong> <strong>«НП...         []   \n",
       "1  <p><strong>Мы делаем автомобили доступными.</s...         []   \n",
       "\n",
       "                                     specializations  \\\n",
       "0  [{'id': '12.251', 'name': 'Реинжиниринг бизнес...   \n",
       "1  [{'id': '1.221', 'name': 'Программирование, Ра...   \n",
       "\n",
       "                   professional_roles              published_at  area.id  \\\n",
       "0  [{'id': '10', 'name': 'Аналитик'}]  2021-11-08T10:03:32+0300        1   \n",
       "1  [{'id': '10', 'name': 'Аналитик'}]  2021-11-20T10:11:47+0300        1   \n",
       "\n",
       "  area.name  address.lat  address.lng     experience.name     schedule.name  \\\n",
       "0    Москва          NaN          NaN  От 1 года до 3 лет       Полный день   \n",
       "1    Москва    55.728849    37.620321  От 1 года до 3 лет  Удаленная работа   \n",
       "\n",
       "    employment.name  salary.from  salary.to salary.currency  \n",
       "0  Полная занятость          NaN        NaN             NaN  \n",
       "1  Полная занятость          NaN        NaN             NaN  "
      ]
     },
     "execution_count": 12,
     "metadata": {},
     "output_type": "execute_result"
    }
   ],
   "source": [
    "df = pd.read_csv(\"20211122_analitik.csv\")\n",
    "df.head(2)"
   ]
  },
  {
   "cell_type": "code",
   "execution_count": 13,
   "id": "d10a4b25-0414-40cd-b04c-94c300c4b6dd",
   "metadata": {},
   "outputs": [],
   "source": [
    "new_df = pd.concat([df, data])"
   ]
  },
  {
   "cell_type": "code",
   "execution_count": 14,
   "id": "cedb79c7-7ef9-4d38-80a4-0c1d5e478429",
   "metadata": {},
   "outputs": [
    {
     "name": "stdout",
     "output_type": "stream",
     "text": [
      "<class 'pandas.core.frame.DataFrame'>\n",
      "Int64Index: 65262 entries, 0 to 56576\n",
      "Data columns (total 18 columns):\n",
      " #   Column              Non-Null Count  Dtype  \n",
      "---  ------              --------------  -----  \n",
      " 0   Unnamed: 0          65262 non-null  int64  \n",
      " 1   id                  65262 non-null  int64  \n",
      " 2   name                65262 non-null  object \n",
      " 3   description         65262 non-null  object \n",
      " 4   key_skills          65262 non-null  object \n",
      " 5   specializations     65262 non-null  object \n",
      " 6   professional_roles  65262 non-null  object \n",
      " 7   published_at        8685 non-null   object \n",
      " 8   area.id             65262 non-null  int64  \n",
      " 9   area.name           65262 non-null  object \n",
      " 10  address.lat         29921 non-null  float64\n",
      " 11  address.lng         29921 non-null  float64\n",
      " 12  experience.name     65262 non-null  object \n",
      " 13  schedule.name       65262 non-null  object \n",
      " 14  employment.name     65262 non-null  object \n",
      " 15  salary.from         31401 non-null  float64\n",
      " 16  salary.to           18156 non-null  float64\n",
      " 17  salary.currency     34596 non-null  object \n",
      "dtypes: float64(4), int64(3), object(11)\n",
      "memory usage: 9.5+ MB\n"
     ]
    }
   ],
   "source": [
    "new_df.info()"
   ]
  },
  {
   "cell_type": "code",
   "execution_count": 19,
   "id": "9ed5bda4-609f-48f7-ad29-a2df382c8f10",
   "metadata": {},
   "outputs": [],
   "source": [
    "new_df.drop(['Unnamed: 0'], axis=1, inplace=True)"
   ]
  },
  {
   "cell_type": "code",
   "execution_count": 20,
   "id": "7cdca8aa-6294-4fab-8f22-c7de472bb71b",
   "metadata": {},
   "outputs": [
    {
     "data": {
      "text/html": [
       "<div>\n",
       "<style scoped>\n",
       "    .dataframe tbody tr th:only-of-type {\n",
       "        vertical-align: middle;\n",
       "    }\n",
       "\n",
       "    .dataframe tbody tr th {\n",
       "        vertical-align: top;\n",
       "    }\n",
       "\n",
       "    .dataframe thead th {\n",
       "        text-align: right;\n",
       "    }\n",
       "</style>\n",
       "<table border=\"1\" class=\"dataframe\">\n",
       "  <thead>\n",
       "    <tr style=\"text-align: right;\">\n",
       "      <th></th>\n",
       "      <th>id</th>\n",
       "      <th>name</th>\n",
       "      <th>description</th>\n",
       "      <th>key_skills</th>\n",
       "      <th>specializations</th>\n",
       "      <th>professional_roles</th>\n",
       "      <th>published_at</th>\n",
       "      <th>area.id</th>\n",
       "      <th>area.name</th>\n",
       "      <th>address.lat</th>\n",
       "      <th>address.lng</th>\n",
       "      <th>experience.name</th>\n",
       "      <th>schedule.name</th>\n",
       "      <th>employment.name</th>\n",
       "      <th>salary.from</th>\n",
       "      <th>salary.to</th>\n",
       "      <th>salary.currency</th>\n",
       "    </tr>\n",
       "  </thead>\n",
       "  <tbody>\n",
       "    <tr>\n",
       "      <th>0</th>\n",
       "      <td>24720534</td>\n",
       "      <td>Системный/бизнес-аналитик</td>\n",
       "      <td>&lt;p&gt;&lt;strong&gt;В компанию АО &lt;/strong&gt; &lt;strong&gt;«НП...</td>\n",
       "      <td>[]</td>\n",
       "      <td>[{'id': '12.251', 'name': 'Реинжиниринг бизнес...</td>\n",
       "      <td>[{'id': '10', 'name': 'Аналитик'}]</td>\n",
       "      <td>2021-11-08T10:03:32+0300</td>\n",
       "      <td>1</td>\n",
       "      <td>Москва</td>\n",
       "      <td>NaN</td>\n",
       "      <td>NaN</td>\n",
       "      <td>От 1 года до 3 лет</td>\n",
       "      <td>Полный день</td>\n",
       "      <td>Полная занятость</td>\n",
       "      <td>NaN</td>\n",
       "      <td>NaN</td>\n",
       "      <td>NaN</td>\n",
       "    </tr>\n",
       "    <tr>\n",
       "      <th>1</th>\n",
       "      <td>30185978</td>\n",
       "      <td>Системный аналитик</td>\n",
       "      <td>&lt;p&gt;&lt;strong&gt;Мы делаем автомобили доступными.&lt;/s...</td>\n",
       "      <td>[]</td>\n",
       "      <td>[{'id': '1.221', 'name': 'Программирование, Ра...</td>\n",
       "      <td>[{'id': '10', 'name': 'Аналитик'}]</td>\n",
       "      <td>2021-11-20T10:11:47+0300</td>\n",
       "      <td>1</td>\n",
       "      <td>Москва</td>\n",
       "      <td>55.728849</td>\n",
       "      <td>37.620321</td>\n",
       "      <td>От 1 года до 3 лет</td>\n",
       "      <td>Удаленная работа</td>\n",
       "      <td>Полная занятость</td>\n",
       "      <td>NaN</td>\n",
       "      <td>NaN</td>\n",
       "      <td>NaN</td>\n",
       "    </tr>\n",
       "  </tbody>\n",
       "</table>\n",
       "</div>"
      ],
      "text/plain": [
       "         id                       name  \\\n",
       "0  24720534  Системный/бизнес-аналитик   \n",
       "1  30185978         Системный аналитик   \n",
       "\n",
       "                                         description key_skills  \\\n",
       "0  <p><strong>В компанию АО </strong> <strong>«НП...         []   \n",
       "1  <p><strong>Мы делаем автомобили доступными.</s...         []   \n",
       "\n",
       "                                     specializations  \\\n",
       "0  [{'id': '12.251', 'name': 'Реинжиниринг бизнес...   \n",
       "1  [{'id': '1.221', 'name': 'Программирование, Ра...   \n",
       "\n",
       "                   professional_roles              published_at  area.id  \\\n",
       "0  [{'id': '10', 'name': 'Аналитик'}]  2021-11-08T10:03:32+0300        1   \n",
       "1  [{'id': '10', 'name': 'Аналитик'}]  2021-11-20T10:11:47+0300        1   \n",
       "\n",
       "  area.name  address.lat  address.lng     experience.name     schedule.name  \\\n",
       "0    Москва          NaN          NaN  От 1 года до 3 лет       Полный день   \n",
       "1    Москва    55.728849    37.620321  От 1 года до 3 лет  Удаленная работа   \n",
       "\n",
       "    employment.name  salary.from  salary.to salary.currency  \n",
       "0  Полная занятость          NaN        NaN             NaN  \n",
       "1  Полная занятость          NaN        NaN             NaN  "
      ]
     },
     "execution_count": 20,
     "metadata": {},
     "output_type": "execute_result"
    }
   ],
   "source": [
    "new_df.head(2)"
   ]
  },
  {
   "cell_type": "code",
   "execution_count": 21,
   "id": "f9b9b7c4-346c-491e-a878-726464ae3c3c",
   "metadata": {},
   "outputs": [
    {
     "data": {
      "text/plain": [
       "<bound method DataFrame.drop_duplicates of              id                                       name  \\\n",
       "0      24720534                  Системный/бизнес-аналитик   \n",
       "1      30185978                         Системный аналитик   \n",
       "2      30649371            Инженер-аналитик (контент SIEM)   \n",
       "3      30964298              Product Owner (Telephony API)   \n",
       "4      31069427  Системный аналитик (Тинькофф Страхование)   \n",
       "...         ...                                        ...   \n",
       "56572  49805851        Разработчик React Native - удаленно   \n",
       "56573  49805852               Младший программист - стажер   \n",
       "56574  49806000                 Аналитик отдела продаж CRM   \n",
       "56575  49807345                                   Продавец   \n",
       "56576   6555939                     Ведущий программист 1С   \n",
       "\n",
       "                                             description  \\\n",
       "0      <p><strong>В компанию АО </strong> <strong>«НП...   \n",
       "1      <p><strong>Мы делаем автомобили доступными.</s...   \n",
       "2      <p><strong>Вам предстоит:</strong></p> <ul> <l...   \n",
       "3      <p>Мы разрабатываем облачный телекоммуникацион...   \n",
       "4      <p>Мы ищем аналитика для развития платформы пр...   \n",
       "...                                                  ...   \n",
       "56572  <p>В эстонское мобильное агентство на удаленну...   \n",
       "56573  <p><strong>В сопроводительном письме просьба у...   \n",
       "56574  <p><em><strong>«</strong></em><strong><em>ДЕЛЬ...   \n",
       "56575  <p>Билайн - международная компания, в которой ...   \n",
       "56576  <p><strong>СофтЭксперт - IT-интегратор, крупне...   \n",
       "\n",
       "                                              key_skills  \\\n",
       "0                                                     []   \n",
       "1                                                     []   \n",
       "2                                                     []   \n",
       "3                                                     []   \n",
       "4                                                     []   \n",
       "...                                                  ...   \n",
       "56572  [{'name': 'React Native'}, {'name': 'iOS'}, {'...   \n",
       "56573                                                 []   \n",
       "56574  [{'name': 'Прогнозирование'}, {'name': 'MS Pow...   \n",
       "56575                                                 []   \n",
       "56576  [{'name': '1С программирование'}, {'name': '1С...   \n",
       "\n",
       "                                         specializations  \\\n",
       "0      [{'id': '12.251', 'name': 'Реинжиниринг бизнес...   \n",
       "1      [{'id': '1.221', 'name': 'Программирование, Ра...   \n",
       "2      [{'id': '1.110', 'name': 'Компьютерная безопас...   \n",
       "3      [{'id': '1.221', 'name': 'Программирование, Ра...   \n",
       "4      [{'id': '1.272', 'name': 'Системная интеграция...   \n",
       "...                                                  ...   \n",
       "56572  [{'id': '1.221', 'name': 'Программирование, Ра...   \n",
       "56573  [{'id': '1.221', 'name': 'Программирование, Ра...   \n",
       "56574  [{'id': '2.342', 'name': 'Финансовый анализ', ...   \n",
       "56575  [{'id': '1.172', 'name': 'Начальный уровень, М...   \n",
       "56576  [{'id': '1.221', 'name': 'Программирование, Ра...   \n",
       "\n",
       "                                      professional_roles  \\\n",
       "0                     [{'id': '10', 'name': 'Аналитик'}]   \n",
       "1                     [{'id': '10', 'name': 'Аналитик'}]   \n",
       "2                     [{'id': '10', 'name': 'Аналитик'}]   \n",
       "3            [{'id': '73', 'name': 'Менеджер продукта'}]   \n",
       "4                     [{'id': '10', 'name': 'Аналитик'}]   \n",
       "...                                                  ...   \n",
       "56572  [{'id': '96', 'name': 'Программист, разработчи...   \n",
       "56573  [{'id': '96', 'name': 'Программист, разработчи...   \n",
       "56574                 [{'id': '10', 'name': 'Аналитик'}]   \n",
       "56575  [{'id': '97', 'name': 'Продавец-консультант, п...   \n",
       "56576  [{'id': '96', 'name': 'Программист, разработчи...   \n",
       "\n",
       "                   published_at  area.id        area.name  address.lat  \\\n",
       "0      2021-11-08T10:03:32+0300        1           Москва          NaN   \n",
       "1      2021-11-20T10:11:47+0300        1           Москва    55.728849   \n",
       "2      2021-10-27T09:45:51+0300        2  Санкт-Петербург          NaN   \n",
       "3      2021-11-16T13:30:56+0300        2  Санкт-Петербург    59.911782   \n",
       "4      2021-11-15T09:59:57+0300        1           Москва          NaN   \n",
       "...                         ...      ...              ...          ...   \n",
       "56572                       NaN        1           Москва          NaN   \n",
       "56573                       NaN        1           Москва    55.814082   \n",
       "56574                       NaN        1           Москва          NaN   \n",
       "56575                       NaN        1           Москва    55.845228   \n",
       "56576                       NaN       92             Тула    54.182090   \n",
       "\n",
       "       address.lng     experience.name     schedule.name      employment.name  \\\n",
       "0              NaN  От 1 года до 3 лет       Полный день     Полная занятость   \n",
       "1        37.620321  От 1 года до 3 лет  Удаленная работа     Полная занятость   \n",
       "2              NaN  От 1 года до 3 лет     Гибкий график     Полная занятость   \n",
       "3        30.276055       От 3 до 6 лет       Полный день     Полная занятость   \n",
       "4              NaN  От 1 года до 3 лет       Полный день     Полная занятость   \n",
       "...            ...                 ...               ...                  ...   \n",
       "56572          NaN  От 1 года до 3 лет  Удаленная работа     Полная занятость   \n",
       "56573    37.717312           Нет опыта     Гибкий график  Частичная занятость   \n",
       "56574          NaN           Нет опыта       Полный день     Полная занятость   \n",
       "56575    37.637919           Нет опыта       Полный день     Полная занятость   \n",
       "56576    37.573411  От 1 года до 3 лет  Удаленная работа     Полная занятость   \n",
       "\n",
       "       salary.from  salary.to salary.currency  \n",
       "0              NaN        NaN             NaN  \n",
       "1              NaN        NaN             NaN  \n",
       "2              NaN        NaN             NaN  \n",
       "3              NaN        NaN             NaN  \n",
       "4              NaN        NaN             NaN  \n",
       "...            ...        ...             ...  \n",
       "56572          NaN        NaN             NaN  \n",
       "56573          NaN    60000.0             RUR  \n",
       "56574          NaN        NaN             NaN  \n",
       "56575      53000.0    83000.0             RUR  \n",
       "56576     100000.0        NaN             RUR  \n",
       "\n",
       "[65262 rows x 17 columns]>"
      ]
     },
     "execution_count": 21,
     "metadata": {},
     "output_type": "execute_result"
    }
   ],
   "source": [
    "new_df.drop_duplicates"
   ]
  },
  {
   "cell_type": "code",
   "execution_count": 22,
   "id": "7b221ce9-d151-41b2-97c3-daac939d06fe",
   "metadata": {},
   "outputs": [
    {
     "name": "stdout",
     "output_type": "stream",
     "text": [
      "<class 'pandas.core.frame.DataFrame'>\n",
      "Int64Index: 65262 entries, 0 to 56576\n",
      "Data columns (total 17 columns):\n",
      " #   Column              Non-Null Count  Dtype  \n",
      "---  ------              --------------  -----  \n",
      " 0   id                  65262 non-null  int64  \n",
      " 1   name                65262 non-null  object \n",
      " 2   description         65262 non-null  object \n",
      " 3   key_skills          65262 non-null  object \n",
      " 4   specializations     65262 non-null  object \n",
      " 5   professional_roles  65262 non-null  object \n",
      " 6   published_at        8685 non-null   object \n",
      " 7   area.id             65262 non-null  int64  \n",
      " 8   area.name           65262 non-null  object \n",
      " 9   address.lat         29921 non-null  float64\n",
      " 10  address.lng         29921 non-null  float64\n",
      " 11  experience.name     65262 non-null  object \n",
      " 12  schedule.name       65262 non-null  object \n",
      " 13  employment.name     65262 non-null  object \n",
      " 14  salary.from         31401 non-null  float64\n",
      " 15  salary.to           18156 non-null  float64\n",
      " 16  salary.currency     34596 non-null  object \n",
      "dtypes: float64(4), int64(2), object(11)\n",
      "memory usage: 9.0+ MB\n"
     ]
    }
   ],
   "source": [
    "new_df.info()"
   ]
  },
  {
   "cell_type": "code",
   "execution_count": 23,
   "id": "c5644569-c625-4c39-859b-6531ae144cec",
   "metadata": {},
   "outputs": [],
   "source": [
    "new_df.to_csv('Final.csv')"
   ]
  },
  {
   "cell_type": "code",
   "execution_count": null,
   "id": "2c0e98b2-6b40-466a-b2ab-0bf3fdff66ee",
   "metadata": {},
   "outputs": [],
   "source": []
  }
 ],
 "metadata": {
  "kernelspec": {
   "display_name": "Python 3 (ipykernel)",
   "language": "python",
   "name": "python3"
  },
  "language_info": {
   "codemirror_mode": {
    "name": "ipython",
    "version": 3
   },
   "file_extension": ".py",
   "mimetype": "text/x-python",
   "name": "python",
   "nbconvert_exporter": "python",
   "pygments_lexer": "ipython3",
   "version": "3.11.3"
  },
  "toc": {
   "base_numbering": "0",
   "nav_menu": {},
   "number_sections": false,
   "sideBar": true,
   "skip_h1_title": false,
   "title_cell": "Table of Contents",
   "title_sidebar": "Contents",
   "toc_cell": false,
   "toc_position": {
    "height": "760px",
    "left": "10px",
    "top": "150px",
    "width": "248px"
   },
   "toc_section_display": true,
   "toc_window_display": true
  }
 },
 "nbformat": 4,
 "nbformat_minor": 5
}
